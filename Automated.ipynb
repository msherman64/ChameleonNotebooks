{
 "cells": [
  {
   "cell_type": "code",
   "execution_count": 1,
   "id": "abroad-force",
   "metadata": {},
   "outputs": [
    {
     "name": "stdout",
     "output_type": "stream",
     "text": [
      "Now using CHI@UC:\n",
      "URL: https://chi.uc.chameleoncloud.org\n",
      "Location: Argonne National Laboratory, Lemont, Illinois, USA\n",
      "Support contact: help@chameleoncloud.org\n"
     ]
    }
   ],
   "source": [
    "import chi\n",
    "chi.use_site(\"CHI@UC\")\n",
    "chi.set(\"project_name\", \"CHI-210833\")"
   ]
  },
  {
   "cell_type": "code",
   "execution_count": 2,
   "id": "fewer-campbell",
   "metadata": {},
   "outputs": [],
   "source": [
    "from chi import lease\n",
    "reservations = []\n",
    "\n",
    "node_count = 2\n",
    "node_type = \"gpu_rtx_6000\"\n",
    "lease.add_node_reservation(reservations, count=node_count, node_type=node_type)\n",
    "lease.add_fip_reservation(reservations, count=node_count)\n",
    "\n",
    "network_name = \"SCC-Net-Example\"\n",
    "lease.add_network_reservation(reservations, network_name)\n",
    "\n",
    "lease_name = \"SCC-Test\"\n",
    "start_date, end_date = lease.lease_duration(days=1)\n",
    "\n",
    "leased_resources = lease.create_lease(lease_name, reservations, start_date=start_date, end_date=end_date)"
   ]
  },
  {
   "cell_type": "code",
   "execution_count": 4,
   "id": "headed-denial",
   "metadata": {},
   "outputs": [
    {
     "data": {
      "text/plain": [
       "{'network_id': 'c2ee2244-2efe-4257-a359-af0258df4900',\n",
       " 'tenant_id': '09f6fb74a74245a6aa1e0d671eb30c95',\n",
       " 'subnet_id': '1c41ac16-7101-470d-8267-8a7b4912a226',\n",
       " 'subnet_ids': ['1c41ac16-7101-470d-8267-8a7b4912a226'],\n",
       " 'port_id': '12733f23-c9b4-4c32-ae89-ed40cfae493c',\n",
       " 'id': '118533ea-bc00-48a7-aa5d-0328ff10e041'}"
      ]
     },
     "execution_count": 4,
     "metadata": {},
     "output_type": "execute_result"
    }
   ],
   "source": [
    "from chi import network\n",
    "lease_id = leased_resources[\"id\"]\n",
    "lease.wait_for_active(lease_id)\n",
    "lease_server_id = lease.get_node_reservation(lease_id)\n",
    "\n",
    "network_id = lease.get_network_id(network_name)\n",
    "\n",
    "network.create_subnet(\"scc-subnet-name\", network_id)\n",
    "\n",
    "network.create_router(\"scc-router-name\", gw_network_name=network.PUBLIC_NETWORK)\n",
    "\n",
    "router_id = network.get_router_id(\"scc-router-name\")\n",
    "subnet_id = network.get_subnet_id(\"scc-subnet-name\")\n",
    "network.add_subnet_to_router(router_id, subnet_id)"
   ]
  },
  {
   "cell_type": "code",
   "execution_count": 5,
   "id": "engaging-width",
   "metadata": {
    "tags": []
   },
   "outputs": [],
   "source": [
    "from chi import server\n",
    "server_obj = server.create_server(\"scc-test-server\", \n",
    "                                  reservation_id = lease_server_id,\n",
    "                                  network_name = network_name,\n",
    "                                  key_name = \"msherman-laptop\",\n",
    "                                  image_name=\"CC-Ubuntu18.04-CUDA10\",\n",
    "                                  count = node_count\n",
    "                                 )"
   ]
  },
  {
   "cell_type": "code",
   "execution_count": 6,
   "id": "proud-punishment",
   "metadata": {},
   "outputs": [],
   "source": [
    "ip_0 = server.associate_floating_ip(server_obj[0].id)\n",
    "ip_1 = server.associate_floating_ip(server_obj[1].id)"
   ]
  },
  {
   "cell_type": "code",
   "execution_count": null,
   "id": "exposed-registration",
   "metadata": {},
   "outputs": [],
   "source": [
    "print(server.wait_for_active(server_obj[0].id).status)\n",
    "print(server.wait_for_active(server_obj[1].id).status)"
   ]
  },
  {
   "cell_type": "code",
   "execution_count": null,
   "id": "valid-austin",
   "metadata": {},
   "outputs": [],
   "source": [
    "server.wait_for_tcp(ip_0, 22)\n",
    "server.wait_for_tcp(ip_1, 22)\n"
   ]
  },
  {
   "cell_type": "code",
   "execution_count": null,
   "id": "irish-restaurant",
   "metadata": {},
   "outputs": [],
   "source": []
  }
 ],
 "metadata": {
  "kernelspec": {
   "display_name": "Python 3",
   "language": "python",
   "name": "python3"
  },
  "language_info": {
   "codemirror_mode": {
    "name": "ipython",
    "version": 3
   },
   "file_extension": ".py",
   "mimetype": "text/x-python",
   "name": "python",
   "nbconvert_exporter": "python",
   "pygments_lexer": "ipython3",
   "version": "3.8.8"
  }
 },
 "nbformat": 4,
 "nbformat_minor": 5
}
